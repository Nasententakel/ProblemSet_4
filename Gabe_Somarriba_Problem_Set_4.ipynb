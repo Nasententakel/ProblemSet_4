{
 "cells": [
  {
   "cell_type": "code",
   "execution_count": 7,
   "metadata": {},
   "outputs": [
    {
     "name": "stdout",
     "output_type": "stream",
     "text": [
      "{7: 9, 9: 6, 5: 1, 12: 1, 8: 9, 6: 1}\n"
     ]
    },
    {
     "data": {
      "image/png": "[encoded data removed]",
      "text/plain": [
       "<Figure size 432x288 with 1 Axes>"
      ]
     },
     "metadata": {
      "needs_background": "light"
     },
     "output_type": "display_data"
    }
   ],
   "source": [
    "# Lagocephalus lagocephalus is species of pelagic pufferfish that spends most of its life in the desert of the open ocean\n",
    "# well away from continental shelves. Due to this preference for the high seas, L. lagocephalus is not often collected in\n",
    "# routine sampling by research vessels or commercial trawlers. However, I have a theory that during the winter months\n",
    "# these fish may venture closer to shore. To see if there is any basis for this claim, I am using data from the iDigBio\n",
    "# databse acquired by querying its API, converting the resulting JSON into a dictionary, parsing out the data\n",
    "# for which month the specimens were collected, and then plotting these data. There are several things I'd like to\n",
    "# improve (for instance, I tried limiting the records to the Northern Hemisphere by using the \"country\" index and\n",
    "# populating the JSON with only USA records). Of course I also have to contend with differences in climatological \n",
    "# cycles between the Pacific and Atlantic (El Ni~no Years, hurricanes), but it is nice to see at least one peak\n",
    "# around the end of the summer! Now to charter a vessel...\n",
    "\n",
    "\n",
    "# import necessary packages\n",
    "import json\n",
    "import requests\n",
    "import matplotlib.pylab as plt\n",
    "\n",
    "# design query to pull up US specimen records for Lagocephalus lagocephalus\n",
    "query = {\n",
    "        \"rq\": {\n",
    "            \"genus\": \"lagocephalus\",\n",
    "            \"specificepithet\": \"lagocephalus\",\n",
    "            \"country\" : [\"united states\", \"usa\"], \n",
    "            \"uuid\": {\n",
    "                \"type\": \"range\",\n",
    "                \"gt\": \"00000000-0000-0000-0000-000000000000\",\n",
    "                \"lte\": \"ffffffff-ffff-ffff-ffff-ffffffffffff\"\n",
    "                }\n",
    "            },\n",
    "        # sort results by uuid in ascending order\n",
    "        \"sort\": [\n",
    "            {\n",
    "                \"uuid\": \"asc\"\n",
    "                }\n",
    "            ],\n",
    "        # set an upper limit of 800 records per json\n",
    "        \"limit\": 800,\n",
    "        # tell the query not to skip records\n",
    "        \"offset\": 0\n",
    "        }\n",
    "\n",
    "# create an empty dictionary to be populated by records\n",
    "monthrecords = {}\n",
    "\n",
    "# assign response from post request containing query to the variable \"response\"\n",
    "response = requests.post(\"http://search.idigbio.org/v2/search/records/\", json=query)\n",
    "# convert the json file from the post request response as a python dictionary and assign it to \"records\"\n",
    "records = response.json(strict=False)\n",
    "# set up a counter variable to ensure I am looping through each record\n",
    "x = 0\n",
    "# begin looping through nested dictionaries\n",
    "for line in records[\"items\"] :\n",
    "    # using counter variable to loop\n",
    "    line = x\n",
    "    # checking whether there is 'month' data in the record\n",
    "    if \"dwc:month\" in records[\"items\"][line][\"data\"]:\n",
    "        # converting non-standard numerical values for 'month' into integers\n",
    "        value = abs(int(records[\"items\"][line][\"data\"][\"dwc:month\"]))\n",
    "        # weeding out non-useful month values\n",
    "        if value > 0:\n",
    "            #checking whether 'month' value is already recorded in originally-empty dictionary\n",
    "            if (value in monthrecords): \n",
    "                # updating number of ocurrences for existing month value\n",
    "                monthrecords[value] += 1\n",
    "                # updating counter variable\n",
    "                x = x + 1\n",
    "                continue\n",
    "            else: \n",
    "                # adding new month value and giving it 1 occurence record\n",
    "                monthrecords[value] = 1\n",
    "                x = x + 1\n",
    "                continue\n",
    "        else:\n",
    "            x = x + 1\n",
    "            continue\n",
    "    else:\n",
    "        x = x + 1\n",
    "        continue\n",
    "# print dictionary to check my raw data\n",
    "print(monthrecords)\n",
    "\n",
    "# sort dictionary keys numerically and return a list of tuples\n",
    "lists = sorted(monthrecords.items())\n",
    "# parse tuples into a pair of lists to be used as values for the x and y axes of my graph\n",
    "x, y = zip(*lists)\n",
    "# plot the graph\n",
    "plt.plot(x, y)\n",
    "# displays plot\n",
    "plt.show()"
   ]
  },
  {
   "cell_type": "code",
   "execution_count": null,
   "metadata": {},
   "outputs": [],
   "source": []
  }
 ],
 "metadata": {
  "kernelspec": {
   "display_name": "Python 3.8 (full)",
   "language": "python",
   "name": "python3-3.8-ufrc"
  },
  "language_info": {
   "codemirror_mode": {
    "name": "ipython",
    "version": 3
   },
   "file_extension": ".py",
   "mimetype": "text/x-python",
   "name": "python",
   "nbconvert_exporter": "python",
   "pygments_lexer": "ipython3",
   "version": "3.8.5"
  }
 },
 "nbformat": 4,
 "nbformat_minor": 4
}
