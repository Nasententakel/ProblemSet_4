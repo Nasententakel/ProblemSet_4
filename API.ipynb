{
 "metadata": {
  "language_info": {
   "codemirror_mode": {
    "name": "ipython",
    "version": 3
   },
   "file_extension": ".py",
   "mimetype": "text/x-python",
   "name": "python",
   "nbconvert_exporter": "python",
   "pygments_lexer": "ipython3",
   "version": "3.8.6-final"
  },
  "orig_nbformat": 2,
  "kernelspec": {
   "name": "Python 3.8.6 64-bit",
   "display_name": "Python 3.8.6 64-bit",
   "metadata": {
    "interpreter": {
     "hash": "ca1703acb71afe7420f0e5194fb22c5f023a0738677dd2e05d9ddd5263f75556"
    }
   }
  }
 },
 "nbformat": 4,
 "nbformat_minor": 2,
 "cells": [
  {
   "cell_type": "code",
   "execution_count": 32,
   "metadata": {},
   "outputs": [
    {
     "output_type": "stream",
     "name": "stdout",
     "text": [
      "Retrieving https://dog.ceo/api/breeds/list/all?begins_with=akita\n",
      "Retrieved 2072 characters\n"
     ]
    },
    {
     "output_type": "error",
     "ename": "TypeError",
     "evalue": "string indices must be integers",
     "traceback": [
      "\u001b[1;31m---------------------------------------------------------------------------\u001b[0m",
      "\u001b[1;31mTypeError\u001b[0m                                 Traceback (most recent call last)",
      "\u001b[1;32m<ipython-input-32-2cd68c871510>\u001b[0m in \u001b[0;36m<module>\u001b[1;34m\u001b[0m\n\u001b[0;32m     16\u001b[0m         \u001b[0mjs\u001b[0m \u001b[1;33m=\u001b[0m \u001b[1;32mNone\u001b[0m\u001b[1;33m\u001b[0m\u001b[1;33m\u001b[0m\u001b[0m\n\u001b[0;32m     17\u001b[0m     \u001b[1;32mfor\u001b[0m \u001b[0mjob\u001b[0m \u001b[1;32min\u001b[0m \u001b[0mjs\u001b[0m\u001b[1;33m:\u001b[0m\u001b[1;33m\u001b[0m\u001b[1;33m\u001b[0m\u001b[0m\n\u001b[1;32m---> 18\u001b[1;33m        \u001b[0mprint\u001b[0m\u001b[1;33m(\u001b[0m\u001b[0mjob\u001b[0m\u001b[1;33m[\u001b[0m\u001b[1;34m'suggestion'\u001b[0m\u001b[1;33m]\u001b[0m\u001b[1;33m)\u001b[0m\u001b[1;33m\u001b[0m\u001b[1;33m\u001b[0m\u001b[0m\n\u001b[0m",
      "\u001b[1;31mTypeError\u001b[0m: string indices must be integers"
     ]
    }
   ],
   "source": [
    "import urllib.request, urllib.parse, urllib.error\n",
    "import json\n",
    "serviceurl = 'https://dog.ceo/api/breeds/list/all'\n",
    "while True:\n",
    "    dog_name = input('Enter a dog name: ')\n",
    "    if len(dog_name) < 1: break\n",
    "    url = serviceurl + \"?\" + urllib.parse.urlencode(\n",
    "        {'begins_with': dog_name})\n",
    "    print('Retrieving', url)\n",
    "    uh = urllib.request.urlopen(url)\n",
    "    data = uh.read().decode()\n",
    "    print('Retrieved', len(data), 'characters')\n",
    "    try:\n",
    "        js = json.loads(data)\n",
    "    except:\n",
    "        js = None\n",
    "    for job in js:\n",
    "       print(job['suggestion'])"
   ]
  },
  {
   "cell_type": "code",
   "execution_count": 34,
   "metadata": {},
   "outputs": [
    {
     "output_type": "stream",
     "name": "stdout",
     "text": [
      "Collecting requests\n",
      "  Downloading requests-2.24.0-py2.py3-none-any.whl (61 kB)\n",
      "Collecting idna<3,>=2.5\n",
      "  Downloading idna-2.10-py2.py3-none-any.whl (58 kB)\n",
      "Collecting urllib3!=1.25.0,!=1.25.1,<1.26,>=1.21.1\n",
      "  Downloading urllib3-1.25.11-py2.py3-none-any.whl (127 kB)\n",
      "Requirement already satisfied: certifi>=2017.4.17 in c:\\users\\rifat\\appdata\\local\\packages\\pythonsoftwarefoundation.python.3.8_qbz5n2kfra8p0\\localcache\\local-packages\\python38\\site-packages (from requests) (2020.6.20)\n",
      "Collecting chardet<4,>=3.0.2\n",
      "  Downloading chardet-3.0.4-py2.py3-none-any.whl (133 kB)\n",
      "Installing collected packages: idna, urllib3, chardet, requests\n",
      "Successfully installed chardet-3.0.4 idna-2.10 requests-2.24.0 urllib3-1.25.11\n",
      "Note: you may need to restart the kernel to use updated packages.\n",
      "  WARNING: The script chardetect.exe is installed in 'C:\\Users\\Rifat\\AppData\\Local\\Packages\\PythonSoftwareFoundation.Python.3.8_qbz5n2kfra8p0\\LocalCache\\local-packages\\Python38\\Scripts' which is not on PATH.\n",
      "  Consider adding this directory to PATH or, if you prefer to suppress this warning, use --no-warn-script-location.\n",
      "WARNING: You are using pip version 20.2.1; however, version 20.2.4 is available.\n",
      "You should consider upgrading via the 'C:\\Users\\Rifat\\AppData\\Local\\Microsoft\\WindowsApps\\PythonSoftwareFoundation.Python.3.8_qbz5n2kfra8p0\\python.exe -m pip install --upgrade pip' command.\n"
     ]
    }
   ],
   "source": [
    "pip install requests"
   ]
  },
  {
   "cell_type": "code",
   "execution_count": 42,
   "metadata": {},
   "outputs": [
    {
     "output_type": "stream",
     "name": "stdout",
     "text": [
      "200\n"
     ]
    },
    {
     "output_type": "execute_result",
     "data": {
      "text/plain": [
       "dict"
      ]
     },
     "metadata": {},
     "execution_count": 42
    }
   ],
   "source": [
    "import urllib.request, urllib.parse, urllib.error\n",
    "import json\n",
    "import requests\n",
    "response = requests.get(\"https://dog.ceo/api/breeds/list/all\")\n",
    "print(response.status_code)\n",
    "data = response.json()\n",
    "type(data)"
   ]
  },
  {
   "cell_type": "code",
   "execution_count": 64,
   "metadata": {},
   "outputs": [],
   "source": [
    "df = list(data.items())"
   ]
  },
  {
   "cell_type": "code",
   "execution_count": 65,
   "metadata": {},
   "outputs": [
    {
     "output_type": "execute_result",
     "data": {
      "text/plain": [
       "list"
      ]
     },
     "metadata": {},
     "execution_count": 65
    }
   ],
   "source": [
    "type(df)"
   ]
  },
  {
   "cell_type": "code",
   "execution_count": 66,
   "metadata": {},
   "outputs": [
    {
     "output_type": "execute_result",
     "data": {
      "text/plain": [
       "[('message',\n",
       "  {'affenpinscher': [],\n",
       "   'african': [],\n",
       "   'airedale': [],\n",
       "   'akita': [],\n",
       "   'appenzeller': [],\n",
       "   'australian': ['shepherd'],\n",
       "   'basenji': [],\n",
       "   'beagle': [],\n",
       "   'bluetick': [],\n",
       "   'borzoi': [],\n",
       "   'bouvier': [],\n",
       "   'boxer': [],\n",
       "   'brabancon': [],\n",
       "   'briard': [],\n",
       "   'buhund': ['norwegian'],\n",
       "   'bulldog': ['boston', 'english', 'french'],\n",
       "   'bullterrier': ['staffordshire'],\n",
       "   'cairn': [],\n",
       "   'cattledog': ['australian'],\n",
       "   'chihuahua': [],\n",
       "   'chow': [],\n",
       "   'clumber': [],\n",
       "   'cockapoo': [],\n",
       "   'collie': ['border'],\n",
       "   'coonhound': [],\n",
       "   'corgi': ['cardigan'],\n",
       "   'cotondetulear': [],\n",
       "   'dachshund': [],\n",
       "   'dalmatian': [],\n",
       "   'dane': ['great'],\n",
       "   'deerhound': ['scottish'],\n",
       "   'dhole': [],\n",
       "   'dingo': [],\n",
       "   'doberman': [],\n",
       "   'elkhound': ['norwegian'],\n",
       "   'entlebucher': [],\n",
       "   'eskimo': [],\n",
       "   'finnish': ['lapphund'],\n",
       "   'frise': ['bichon'],\n",
       "   'germanshepherd': [],\n",
       "   'greyhound': ['italian'],\n",
       "   'groenendael': [],\n",
       "   'havanese': [],\n",
       "   'hound': ['afghan',\n",
       "    'basset',\n",
       "    'blood',\n",
       "    'english',\n",
       "    'ibizan',\n",
       "    'plott',\n",
       "    'walker'],\n",
       "   'husky': [],\n",
       "   'keeshond': [],\n",
       "   'kelpie': [],\n",
       "   'komondor': [],\n",
       "   'kuvasz': [],\n",
       "   'labrador': [],\n",
       "   'leonberg': [],\n",
       "   'lhasa': [],\n",
       "   'malamute': [],\n",
       "   'malinois': [],\n",
       "   'maltese': [],\n",
       "   'mastiff': ['bull', 'english', 'tibetan'],\n",
       "   'mexicanhairless': [],\n",
       "   'mix': [],\n",
       "   'mountain': ['bernese', 'swiss'],\n",
       "   'newfoundland': [],\n",
       "   'otterhound': [],\n",
       "   'ovcharka': ['caucasian'],\n",
       "   'papillon': [],\n",
       "   'pekinese': [],\n",
       "   'pembroke': [],\n",
       "   'pinscher': ['miniature'],\n",
       "   'pitbull': [],\n",
       "   'pointer': ['german', 'germanlonghair'],\n",
       "   'pomeranian': [],\n",
       "   'poodle': ['miniature', 'standard', 'toy'],\n",
       "   'pug': [],\n",
       "   'puggle': [],\n",
       "   'pyrenees': [],\n",
       "   'redbone': [],\n",
       "   'retriever': ['chesapeake', 'curly', 'flatcoated', 'golden'],\n",
       "   'ridgeback': ['rhodesian'],\n",
       "   'rottweiler': [],\n",
       "   'saluki': [],\n",
       "   'samoyed': [],\n",
       "   'schipperke': [],\n",
       "   'schnauzer': ['giant', 'miniature'],\n",
       "   'setter': ['english', 'gordon', 'irish'],\n",
       "   'sheepdog': ['english', 'shetland'],\n",
       "   'shiba': [],\n",
       "   'shihtzu': [],\n",
       "   'spaniel': ['blenheim',\n",
       "    'brittany',\n",
       "    'cocker',\n",
       "    'irish',\n",
       "    'japanese',\n",
       "    'sussex',\n",
       "    'welsh'],\n",
       "   'springer': ['english'],\n",
       "   'stbernard': [],\n",
       "   'terrier': ['american',\n",
       "    'australian',\n",
       "    'bedlington',\n",
       "    'border',\n",
       "    'dandie',\n",
       "    'fox',\n",
       "    'irish',\n",
       "    'kerryblue',\n",
       "    'lakeland',\n",
       "    'norfolk',\n",
       "    'norwich',\n",
       "    'patterdale',\n",
       "    'russell',\n",
       "    'scottish',\n",
       "    'sealyham',\n",
       "    'silky',\n",
       "    'tibetan',\n",
       "    'toy',\n",
       "    'westhighland',\n",
       "    'wheaten',\n",
       "    'yorkshire'],\n",
       "   'vizsla': [],\n",
       "   'waterdog': ['spanish'],\n",
       "   'weimaraner': [],\n",
       "   'whippet': [],\n",
       "   'wolfhound': ['irish']}),\n",
       " ('status', 'success')]"
      ]
     },
     "metadata": {},
     "execution_count": 66
    }
   ],
   "source": [
    "df"
   ]
  },
  {
   "cell_type": "code",
   "execution_count": 71,
   "metadata": {},
   "outputs": [
    {
     "output_type": "error",
     "ename": "KeyError",
     "evalue": "'contextWrites'",
     "traceback": [
      "\u001b[1;31m---------------------------------------------------------------------------\u001b[0m",
      "\u001b[1;31mKeyError\u001b[0m                                  Traceback (most recent call last)",
      "\u001b[1;32m<ipython-input-71-a3c3201d0573>\u001b[0m in \u001b[0;36m<module>\u001b[1;34m\u001b[0m\n\u001b[0;32m     19\u001b[0m \u001b[1;33m\u001b[0m\u001b[0m\n\u001b[0;32m     20\u001b[0m \u001b[1;31m# download images and save each to ./images folder\u001b[0m\u001b[1;33m\u001b[0m\u001b[1;33m\u001b[0m\u001b[1;33m\u001b[0m\u001b[0m\n\u001b[1;32m---> 21\u001b[1;33m \u001b[1;32mfor\u001b[0m \u001b[0mimg\u001b[0m \u001b[1;32min\u001b[0m \u001b[0mdata\u001b[0m\u001b[1;33m[\u001b[0m\u001b[1;34m'contextWrites'\u001b[0m\u001b[1;33m]\u001b[0m\u001b[1;33m[\u001b[0m\u001b[1;34m'to'\u001b[0m\u001b[1;33m]\u001b[0m\u001b[1;33m:\u001b[0m\u001b[1;33m\u001b[0m\u001b[1;33m\u001b[0m\u001b[0m\n\u001b[0m\u001b[0;32m     22\u001b[0m    \u001b[1;31m# get year, month and day with regex to create image url\u001b[0m\u001b[1;33m\u001b[0m\u001b[1;33m\u001b[0m\u001b[1;33m\u001b[0m\u001b[0m\n\u001b[0;32m     23\u001b[0m    \u001b[0mmatches\u001b[0m \u001b[1;33m=\u001b[0m \u001b[0mre\u001b[0m\u001b[1;33m.\u001b[0m\u001b[0msearch\u001b[0m\u001b[1;33m(\u001b[0m\u001b[0mdates_pattern\u001b[0m\u001b[1;33m,\u001b[0m \u001b[0mimg\u001b[0m\u001b[1;33m[\u001b[0m\u001b[1;34m'date'\u001b[0m\u001b[1;33m]\u001b[0m\u001b[1;33m)\u001b[0m\u001b[1;33m\u001b[0m\u001b[1;33m\u001b[0m\u001b[0m\n",
      "\u001b[1;31mKeyError\u001b[0m: 'contextWrites'"
     ]
    }
   ],
   "source": [
    "import requests\n",
    "import re\n",
    "import imageio\n",
    "from skimage import transform,io\n",
    "# get json with information (including name and date) about Earth pictures\n",
    "response = requests.post(\"https://NasaAPIdimasV1.p.rapidapi.com/getEPICEarthImagery\",\n",
    " headers={\n",
    "   \"X-RapidAPI-Host\": \"NasaAPIdimasV1.p.rapidapi.com\",\n",
    "   \"X-RapidAPI-Key\": \"4xxxxxxxxxxxxxxxxxxxxxxxxxxxxxxxxxxxxx\",\n",
    "   \"Content-Type\": \"application/x-www-form-urlencoded\"\n",
    " }\n",
    ")\n",
    "\n",
    "# convert json to Python object \n",
    "data = response.json()\n",
    "\n",
    "# create regex pattern to get separately year, month and day of an image\n",
    "dates_pattern = r\"^(?P<year>d{4})-(?P<month>d{2})-(?P<day>d{2})\"\n",
    "\n",
    "# download images and save each to ./images folder\n",
    "for img in data['contextWrites']['to']:\n",
    "   # get year, month and day with regex to create image url\n",
    "   matches = re.search(dates_pattern, img['date'])\n",
    "   year = matches.group('year')\n",
    "   month = matches.group('month')\n",
    "   day = matches.group('day')\n",
    "   image_name = img['image']\n",
    "   img_url = f'https://epic.gsfc.nasa.gov/archive/natural/{year}/{month}/{day}/png/{image_name}.png'\n",
    "   # save image to ./images folder\n",
    "   img_data = requests.get(img_url).content\n",
    "   with open(f'images/{image_name}.png', 'wb') as handler:\n",
    "       handler.write(img_data)\n",
    "\n",
    "index = range(len(data['contextWrites']['to']))\n",
    "images = []\n",
    "\n",
    "# resize images and create gif from them\n",
    "for i in index:\n",
    "   img_name = data[\"contextWrites\"][\"to\"][i][\"image\"]   \n",
    "   img = io.imread(f'images/{img_name}.png')\n",
    "   small_img = transform.resize(img, (500, 500), mode='symmetric', preserve_range=True)\n",
    "   images.append(small_img)\n",
    "imageio.mimsave('images/earth500.gif', images)"
   ]
  },
  {
   "cell_type": "code",
   "execution_count": 69,
   "metadata": {},
   "outputs": [
    {
     "output_type": "stream",
     "name": "stdout",
     "text": [
      "Collecting scikit-image\n",
      "  Downloading scikit_image-0.17.2-cp38-cp38-win_amd64.whl (11.7 MB)\n",
      "Collecting imageio\n",
      "  Downloading imageio-2.9.0-py3-none-any.whl (3.3 MB)\n",
      "Requirement already satisfied: pillow!=7.1.0,!=7.1.1,>=4.3.0 in c:\\users\\rifat\\appdata\\local\\packages\\pythonsoftwarefoundation.python.3.8_qbz5n2kfra8p0\\localcache\\local-packages\\python38\\site-packages (from scikit-image) (8.0.1)\n",
      "Collecting tifffile>=2019.7.26\n",
      "  Downloading tifffile-2020.10.1-py3-none-any.whl (152 kB)\n",
      "Requirement already satisfied: scipy>=1.0.1 in c:\\users\\rifat\\appdata\\local\\packages\\pythonsoftwarefoundation.python.3.8_qbz5n2kfra8p0\\localcache\\local-packages\\python38\\site-packages (from scikit-image) (1.5.3)\n",
      "Requirement already satisfied: numpy>=1.15.1 in c:\\users\\rifat\\appdata\\local\\packages\\pythonsoftwarefoundation.python.3.8_qbz5n2kfra8p0\\localcache\\local-packages\\python38\\site-packages (from scikit-image) (1.19.2)\n",
      "Requirement already satisfied: matplotlib!=3.0.0,>=2.0.0 in c:\\users\\rifat\\appdata\\local\\packages\\pythonsoftwarefoundation.python.3.8_qbz5n2kfra8p0\\localcache\\local-packages\\python38\\site-packages (from scikit-image) (3.3.2)\n",
      "Collecting networkx>=2.0\n",
      "  Downloading networkx-2.5-py3-none-any.whl (1.6 MB)\n",
      "Collecting PyWavelets>=1.1.1\n",
      "  Downloading PyWavelets-1.1.1-cp38-cp38-win_amd64.whl (4.3 MB)\n",
      "Requirement already satisfied: pyparsing!=2.0.4,!=2.1.2,!=2.1.6,>=2.0.3 in c:\\users\\rifat\\appdata\\local\\packages\\pythonsoftwarefoundation.python.3.8_qbz5n2kfra8p0\\localcache\\local-packages\\python38\\site-packages (from matplotlib!=3.0.0,>=2.0.0->scikit-image) (2.4.7)\n",
      "Requirement already satisfied: certifi>=2020.06.20 in c:\\users\\rifat\\appdata\\local\\packages\\pythonsoftwarefoundation.python.3.8_qbz5n2kfra8p0\\localcache\\local-packages\\python38\\site-packages (from matplotlib!=3.0.0,>=2.0.0->scikit-image) (2020.6.20)\n",
      "Requirement already satisfied: python-dateutil>=2.1 in c:\\users\\rifat\\appdata\\local\\packages\\pythonsoftwarefoundation.python.3.8_qbz5n2kfra8p0\\localcache\\local-packages\\python38\\site-packages (from matplotlib!=3.0.0,>=2.0.0->scikit-image) (2.8.1)\n",
      "Requirement already satisfied: cycler>=0.10 in c:\\users\\rifat\\appdata\\local\\packages\\pythonsoftwarefoundation.python.3.8_qbz5n2kfra8p0\\localcache\\local-packages\\python38\\site-packages (from matplotlib!=3.0.0,>=2.0.0->scikit-image) (0.10.0)\n",
      "Requirement already satisfied: kiwisolver>=1.0.1 in c:\\users\\rifat\\appdata\\local\\packages\\pythonsoftwarefoundation.python.3.8_qbz5n2kfra8p0\\localcache\\local-packages\\python38\\site-packages (from matplotlib!=3.0.0,>=2.0.0->scikit-image) (1.2.0)\n",
      "Requirement already satisfied: decorator>=4.3.0 in c:\\users\\rifat\\appdata\\local\\packages\\pythonsoftwarefoundation.python.3.8_qbz5n2kfra8p0\\localcache\\local-packages\\python38\\site-packages (from networkx>=2.0->scikit-image) (4.4.2)\n",
      "Requirement already satisfied: six>=1.5 in c:\\users\\rifat\\appdata\\local\\packages\\pythonsoftwarefoundation.python.3.8_qbz5n2kfra8p0\\localcache\\local-packages\\python38\\site-packages (from python-dateutil>=2.1->matplotlib!=3.0.0,>=2.0.0->scikit-image) (1.15.0)\n",
      "Installing collected packages: imageio, tifffile, networkx, PyWavelets, scikit-image\n",
      "Successfully installed PyWavelets-1.1.1 imageio-2.9.0 networkx-2.5 scikit-image-0.17.2 tifffile-2020.10.1\n",
      "Note: you may need to restart the kernel to use updated packages.\n",
      "  WARNING: The scripts imageio_download_bin.exe and imageio_remove_bin.exe are installed in 'C:\\Users\\Rifat\\AppData\\Local\\Packages\\PythonSoftwareFoundation.Python.3.8_qbz5n2kfra8p0\\LocalCache\\local-packages\\Python38\\Scripts' which is not on PATH.\n",
      "  Consider adding this directory to PATH or, if you prefer to suppress this warning, use --no-warn-script-location.\n",
      "  WARNING: The scripts lsm2bin.exe and tifffile.exe are installed in 'C:\\Users\\Rifat\\AppData\\Local\\Packages\\PythonSoftwareFoundation.Python.3.8_qbz5n2kfra8p0\\LocalCache\\local-packages\\Python38\\Scripts' which is not on PATH.\n",
      "  Consider adding this directory to PATH or, if you prefer to suppress this warning, use --no-warn-script-location.\n",
      "  WARNING: The script skivi.exe is installed in 'C:\\Users\\Rifat\\AppData\\Local\\Packages\\PythonSoftwareFoundation.Python.3.8_qbz5n2kfra8p0\\LocalCache\\local-packages\\Python38\\Scripts' which is not on PATH.\n",
      "  Consider adding this directory to PATH or, if you prefer to suppress this warning, use --no-warn-script-location.\n",
      "WARNING: You are using pip version 20.2.1; however, version 20.2.4 is available.\n",
      "You should consider upgrading via the 'C:\\Users\\Rifat\\AppData\\Local\\Microsoft\\WindowsApps\\PythonSoftwareFoundation.Python.3.8_qbz5n2kfra8p0\\python.exe -m pip install --upgrade pip' command.\n"
     ]
    }
   ],
   "source": [
    "pip install scikit-image imageio"
   ]
  },
  {
   "cell_type": "code",
   "execution_count": 70,
   "metadata": {},
   "outputs": [
    {
     "output_type": "stream",
     "name": "stdout",
     "text": [
      "Requirement already satisfied: scikit-image in c:\\users\\rifat\\appdata\\local\\packages\\pythonsoftwarefoundation.python.3.8_qbz5n2kfra8p0\\localcache\\local-packages\\python38\\site-packages (0.17.2)\n",
      "Requirement already satisfied: imageio in c:\\users\\rifat\\appdata\\local\\packages\\pythonsoftwarefoundation.python.3.8_qbz5n2kfra8p0\\localcache\\local-packages\\python38\\site-packages (2.9.0)\n",
      "Requirement already satisfied: PyWavelets>=1.1.1 in c:\\users\\rifat\\appdata\\local\\packages\\pythonsoftwarefoundation.python.3.8_qbz5n2kfra8p0\\localcache\\local-packages\\python38\\site-packages (from scikit-image) (1.1.1)\n",
      "Requirement already satisfied: matplotlib!=3.0.0,>=2.0.0 in c:\\users\\rifat\\appdata\\local\\packages\\pythonsoftwarefoundation.python.3.8_qbz5n2kfra8p0\\localcache\\local-packages\\python38\\site-packages (from scikit-image) (3.3.2)\n",
      "Requirement already satisfied: tifffile>=2019.7.26 in c:\\users\\rifat\\appdata\\local\\packages\\pythonsoftwarefoundation.python.3.8_qbz5n2kfra8p0\\localcache\\local-packages\\python38\\site-packages (from scikit-image) (2020.10.1)\n",
      "Requirement already satisfied: networkx>=2.0 in c:\\users\\rifat\\appdata\\local\\packages\\pythonsoftwarefoundation.python.3.8_qbz5n2kfra8p0\\localcache\\local-packages\\python38\\site-packages (from scikit-image) (2.5)\n",
      "Requirement already satisfied: scipy>=1.0.1 in c:\\users\\rifat\\appdata\\local\\packages\\pythonsoftwarefoundation.python.3.8_qbz5n2kfra8p0\\localcache\\local-packages\\python38\\site-packages (from scikit-image) (1.5.3)\n",
      "Requirement already satisfied: numpy>=1.15.1 in c:\\users\\rifat\\appdata\\local\\packages\\pythonsoftwarefoundation.python.3.8_qbz5n2kfra8p0\\localcache\\local-packages\\python38\\site-packages (from scikit-image) (1.19.2)\n",
      "Requirement already satisfied: pillow!=7.1.0,!=7.1.1,>=4.3.0 in c:\\users\\rifat\\appdata\\local\\packages\\pythonsoftwarefoundation.python.3.8_qbz5n2kfra8p0\\localcache\\local-packages\\python38\\site-packages (from scikit-image) (8.0.1)\n",
      "Requirement already satisfied: kiwisolver>=1.0.1 in c:\\users\\rifat\\appdata\\local\\packages\\pythonsoftwarefoundation.python.3.8_qbz5n2kfra8p0\\localcache\\local-packages\\python38\\site-packages (from matplotlib!=3.0.0,>=2.0.0->scikit-image) (1.2.0)\n",
      "Requirement already satisfied: certifi>=2020.06.20 in c:\\users\\rifat\\appdata\\local\\packages\\pythonsoftwarefoundation.python.3.8_qbz5n2kfra8p0\\localcache\\local-packages\\python38\\site-packages (from matplotlib!=3.0.0,>=2.0.0->scikit-image) (2020.6.20)\n",
      "Requirement already satisfied: cycler>=0.10 in c:\\users\\rifat\\appdata\\local\\packages\\pythonsoftwarefoundation.python.3.8_qbz5n2kfra8p0\\localcache\\local-packages\\python38\\site-packages (from matplotlib!=3.0.0,>=2.0.0->scikit-image) (0.10.0)\n",
      "Requirement already satisfied: python-dateutil>=2.1 in c:\\users\\rifat\\appdata\\local\\packages\\pythonsoftwarefoundation.python.3.8_qbz5n2kfra8p0\\localcache\\local-packages\\python38\\site-packages (from matplotlib!=3.0.0,>=2.0.0->scikit-image) (2.8.1)\n",
      "Requirement already satisfied: pyparsing!=2.0.4,!=2.1.2,!=2.1.6,>=2.0.3 in c:\\users\\rifat\\appdata\\local\\packages\\pythonsoftwarefoundation.python.3.8_qbz5n2kfra8p0\\localcache\\local-packages\\python38\\site-packages (from matplotlib!=3.0.0,>=2.0.0->scikit-image) (2.4.7)\n",
      "Requirement already satisfied: decorator>=4.3.0 in c:\\users\\rifat\\appdata\\local\\packages\\pythonsoftwarefoundation.python.3.8_qbz5n2kfra8p0\\localcache\\local-packages\\python38\\site-packages (from networkx>=2.0->scikit-image) (4.4.2)\n",
      "Requirement already satisfied: six in c:\\users\\rifat\\appdata\\local\\packages\\pythonsoftwarefoundation.python.3.8_qbz5n2kfra8p0\\localcache\\local-packages\\python38\\site-packages (from cycler>=0.10->matplotlib!=3.0.0,>=2.0.0->scikit-image) (1.15.0)\n",
      "WARNING: You are using pip version 20.2.1; however, version 20.2.4 is available.\n",
      "You should consider upgrading via the 'C:\\Users\\Rifat\\AppData\\Local\\Microsoft\\WindowsApps\\PythonSoftwareFoundation.Python.3.8_qbz5n2kfra8p0\\python.exe -m pip install --upgrade pip' command.\n"
     ]
    }
   ],
   "source": [
    "!pip3 install scikit-image imageio"
   ]
  },
  {
   "cell_type": "code",
   "execution_count": null,
   "metadata": {},
   "outputs": [],
   "source": [
    "pip install "
   ]
  }
 ]
}